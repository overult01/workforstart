{
 "cells": [
  {
   "cell_type": "code",
   "execution_count": 29,
   "metadata": {},
   "outputs": [],
   "source": [
    "# 해야할 일: 자동 포맷 복사, 어떻게 gs를 아래로 계속 내리면서 기입할 것인가, 최근 데이터를 한 눈에 볼 수 있는 지표 만들기\n",
    "# 마지막 고려사항: 시간에 맞춰 자동 동작"
   ]
  },
  {
   "cell_type": "code",
   "execution_count": 30,
   "metadata": {},
   "outputs": [],
   "source": [
    "#af 클릭 자동 모니터링"
   ]
  },
  {
   "cell_type": "code",
   "execution_count": 31,
   "metadata": {},
   "outputs": [],
   "source": [
    "# !pip install schedule"
   ]
  },
  {
   "cell_type": "code",
   "execution_count": 32,
   "metadata": {},
   "outputs": [],
   "source": [
    "# !pip install chromedriver-autoinstaller\n",
    "from selenium.webdriver.support.select import Select\n",
    "from selenium import webdriver\n",
    "from selenium.webdriver.chrome.options import Options\n",
    "from fake_useragent import UserAgent\n",
    "# import schedule #스케쥴러 관련\n",
    "import time\n",
    "import datetime\n",
    "from oauth2client.service_account import ServiceAccountCredentials #스프레드 시트 관련\n",
    "import gspread\n",
    "import random"
   ]
  },
  {
   "cell_type": "code",
   "execution_count": 33,
   "metadata": {},
   "outputs": [
    {
     "name": "stdout",
     "output_type": "stream",
     "text": [
      "Mozilla/5.0 (Macintosh; Intel Mac OS X 10_9_2) AppleWebKit/537.36 (KHTML, like Gecko) Chrome/36.0.1944.0 Safari/537.36\n"
     ]
    },
    {
     "name": "stderr",
     "output_type": "stream",
     "text": [
      "<ipython-input-33-ee8a81520c2f>:7: DeprecationWarning: use options instead of chrome_options\n",
      "  driver = webdriver.Chrome(chrome_options=options, executable_path=r'./chromedriver.exe')\n"
     ]
    }
   ],
   "source": [
    "# 앱스플라이어 자동로그인\n",
    "options = Options()\n",
    "ua = UserAgent()\n",
    "userAgent = ua.random\n",
    "print(userAgent)\n",
    "options.add_argument(f'user-agent={userAgent}')\n",
    "driver = webdriver.Chrome(chrome_options=options, executable_path=r'./chromedriver.exe')\n",
    "# driver.get(\"http://admin.mobiconnect.co.kr/admin/login\")\n",
    "# driver.quit()"
   ]
  },
  {
   "cell_type": "code",
   "execution_count": 34,
   "metadata": {},
   "outputs": [
    {
     "data": {
      "text/plain": [
       "'10:13'"
      ]
     },
     "execution_count": 34,
     "metadata": {},
     "output_type": "execute_result"
    }
   ],
   "source": [
    "today= str(datetime.datetime.now().strftime(\"%Y-%m-%d\"))\n",
    "today_time = str(datetime.datetime.now().strftime(\"%H:%M\"))\n",
    "days_ago = datetime.datetime.now() - datetime.timedelta(days=1)\n",
    "yesterday= str(days_ago.strftime(\"%Y-%m-%d\"))\n",
    "today\n",
    "today_time"
   ]
  },
  {
   "cell_type": "code",
   "execution_count": 35,
   "metadata": {},
   "outputs": [
    {
     "name": "stdout",
     "output_type": "stream",
     "text": [
      "수\n"
     ]
    }
   ],
   "source": [
    "day_name = ['월','화','수','목','금','토','일']\n",
    "b = day_name[datetime.datetime.today().weekday()]\n",
    "print(b)"
   ]
  },
  {
   "cell_type": "code",
   "execution_count": 36,
   "metadata": {},
   "outputs": [
    {
     "data": {
      "text/plain": [
       "'2021-06-30(수) 10:13'"
      ]
     },
     "execution_count": 36,
     "metadata": {},
     "output_type": "execute_result"
    }
   ],
   "source": [
    "today_hum = str(today)+\"(\"+str(b)+\") \"+str(today_time)\n",
    "today_hum #구글 스프레드 시트에 기입할 날짜 + 요일 + 시간`"
   ]
  },
  {
   "cell_type": "code",
   "execution_count": 37,
   "metadata": {},
   "outputs": [],
   "source": [
    "time1 = datetime.datetime(2021, 6, 25, 9, 0, 0) #기준일 21/06/23\n",
    "time2 = datetime.datetime.now()\n",
    "# date_gs = (time2-time1).days # 기준날짜와 오늘 날짜의 차\n",
    "# date_gs\n",
    "date_gs=3"
   ]
  },
  {
   "cell_type": "code",
   "execution_count": 38,
   "metadata": {},
   "outputs": [
    {
     "data": {
      "text/plain": [
       "{'spreadsheetId': '15r6Ts8XR_rZ90wZ--gcgrdXwu43tydEN6MWyCmHPukg',\n",
       " 'updatedRange': \"'AF모니터링의 사본'!A22\",\n",
       " 'updatedRows': 1,\n",
       " 'updatedColumns': 1,\n",
       " 'updatedCells': 1}"
      ]
     },
     "execution_count": 38,
     "metadata": {},
     "output_type": "execute_result"
    }
   ],
   "source": [
    "    # 구글 시트에 연결(for문으로 돌릴 필요가 없어 위로 옮김)\n",
    "scope = ['https://spreadsheets.google.com/feeds']\n",
    "json_file_name = './rpadaily-a0b4f0f12ff6.json'\n",
    "credentials = ServiceAccountCredentials.from_json_keyfile_name(json_file_name, scope)\n",
    "gc = gspread.authorize(credentials)\n",
    "#찾아갈 시트주소\n",
    "spreadsheet_url = 'https://docs.google.com/spreadsheets/d/15r6Ts8XR_rZ90wZ--gcgrdXwu43tydEN6MWyCmHPukg/edit#gid=1687502285'\n",
    "    \n",
    "doc = gc.open_by_url(spreadsheet_url)\n",
    "sheet1 = doc.worksheet('AF모니터링의 사본')\n",
    "\n",
    "# (사이클1)현재 시간 기입. 항상 A12 셀에 현재 날짜 기입 \n",
    "sheet1.update_acell('a'+str(12), today_hum)\n",
    "# (사이클2)현재 시간 기입 (수정 필요) date_gs는 일자 기준, 나중에 스케쥴러 가능할 때 시간 기준으로 변경 필요\n",
    "sheet1.update_acell('a'+str(11+date_gs*4), today_hum)\n",
    "# No. 기입 (수정 필요) date_gs는 일자 기준, 나중에 스케쥴러 가능할 때 시간 기준으로 변경 필요\n",
    "sheet1.update_acell('a'+str(10+date_gs*4), 'No.'+str(date_gs+1))"
   ]
  },
  {
   "cell_type": "code",
   "execution_count": 39,
   "metadata": {},
   "outputs": [
    {
     "data": {
      "text/plain": [
       "['realfarm',\n",
       " 'godticket',\n",
       " 'grow',\n",
       " 'goldspoon_aos',\n",
       " 'goldspoon_ios',\n",
       " 'lord_kr_aos',\n",
       " 'lord_us_aos',\n",
       " 'lord_kr_ios',\n",
       " 'lord_us_ios',\n",
       " 'vanila_media']"
      ]
     },
     "execution_count": 39,
     "metadata": {},
     "output_type": "execute_result"
    }
   ],
   "source": [
    "#캠페인 추가시 수정할 부분(미디어 계정은 _media)\n",
    "\n",
    "campaign_dic = {'realfarm':\"kr.neogames.realfarm\", 'godticket':\"godticket.mobile\", 'grow':\"kr.co.grow.app\", 'goldspoon_aos':\"com.goldspoon\", 'goldspoon_ios':\"id1332604123\", 'lord_kr_aos': \"com.clovergames.lordofheroes\", 'lord_us_aos': \"com.clovergames.lordofheroes\", 'lord_kr_ios':\"id1496742556\", 'lord_us_ios':\"id1496742556\", \"vanila_media\":\"kr.projectvanilla.production\"}\n",
    "# ios 포함으로 변경 필요\n",
    "campaign_list = list(campaign_dic.keys())\n",
    "campaign_list"
   ]
  },
  {
   "cell_type": "code",
   "execution_count": 40,
   "metadata": {},
   "outputs": [],
   "source": [
    "# 아래에서 사용(스프레드 시트 열지정)\n",
    "#캠페인 추가시 수정할 부분(미디어 계정은 _media)\n",
    "campaign_gsnum_dic = {'realfarm':\"g\", 'godticket':\"k\", 'grow':\"j\", 'goldspoon_aos':\"h\", 'goldspoon_ios':\"i\", 'lord_kr_aos':\"c\", 'lord_kr_ios':\"d\", 'lord_us_aos':\"e\", 'lord_us_ios':\"f\", \"vanila_media\":\"l\" }"
   ]
  },
  {
   "cell_type": "code",
   "execution_count": 41,
   "metadata": {},
   "outputs": [],
   "source": [
    "# #임시\n",
    "# driver.get('https://hq1.appsflyer.com/dashboard/overview/kr.neogames.realfarm#end=2021-06-23&grouping=attribution&start=2021-06-23')\n",
    "# driver.find_element_by_id('user-email').send_keys('globalsales@mobidays.com')\n",
    "# driver.find_element_by_id('password-field').send_keys('Mobi2020#@!$')\n",
    "# driver.find_element_by_xpath('//*[@id=\"login-form\"]/div[6]/button').click()"
   ]
  },
  {
   "cell_type": "code",
   "execution_count": 42,
   "metadata": {},
   "outputs": [
    {
     "ename": "NoSuchElementException",
     "evalue": "Message: no such element: Unable to locate element: {\"method\":\"css selector\",\"selector\":\"div.webix_ss_body > div.webix_ss_center > div > div:nth-child(3)\"}\n  (Session info: chrome=91.0.4472.124)\n",
     "output_type": "error",
     "traceback": [
      "\u001b[1;31m---------------------------------------------------------------------------\u001b[0m",
      "\u001b[1;31mNoSuchElementException\u001b[0m                    Traceback (most recent call last)",
      "\u001b[1;32m<ipython-input-42-e7373cf9f8ae>\u001b[0m in \u001b[0;36m<module>\u001b[1;34m\u001b[0m\n\u001b[0;32m     47\u001b[0m         \u001b[1;32melse\u001b[0m\u001b[1;33m:\u001b[0m       \u001b[1;31m#로드오브 히어로즈 외 캠페인들\u001b[0m\u001b[1;33m\u001b[0m\u001b[1;33m\u001b[0m\u001b[0m\n\u001b[0;32m     48\u001b[0m             \u001b[0mtime\u001b[0m\u001b[1;33m.\u001b[0m\u001b[0msleep\u001b[0m\u001b[1;33m(\u001b[0m\u001b[0mrandom_y\u001b[0m\u001b[1;33m)\u001b[0m\u001b[1;33m\u001b[0m\u001b[1;33m\u001b[0m\u001b[0m\n\u001b[1;32m---> 49\u001b[1;33m             \u001b[0mclick\u001b[0m \u001b[1;33m=\u001b[0m \u001b[0mdriver\u001b[0m\u001b[1;33m.\u001b[0m\u001b[0mfind_element_by_css_selector\u001b[0m\u001b[1;33m(\u001b[0m\u001b[1;34m'div.webix_ss_body > div.webix_ss_center > div > div:nth-child(3)'\u001b[0m\u001b[1;33m)\u001b[0m\u001b[1;33m.\u001b[0m\u001b[0mtext\u001b[0m\u001b[1;33m\u001b[0m\u001b[1;33m\u001b[0m\u001b[0m\n\u001b[0m\u001b[0;32m     50\u001b[0m             \u001b[0mclick\u001b[0m\u001b[1;33m\u001b[0m\u001b[1;33m\u001b[0m\u001b[0m\n\u001b[0;32m     51\u001b[0m             \u001b[0minstall\u001b[0m \u001b[1;33m=\u001b[0m \u001b[0mdriver\u001b[0m\u001b[1;33m.\u001b[0m\u001b[0mfind_element_by_css_selector\u001b[0m\u001b[1;33m(\u001b[0m\u001b[1;34m'div.webix_ss_body > div.webix_ss_center > div > div.webix_column.af-webix-table-integer-column.af-webix-table-thin-grouped-column.af-webix-start-table-section-column > div'\u001b[0m\u001b[1;33m)\u001b[0m\u001b[1;33m.\u001b[0m\u001b[0mtext\u001b[0m\u001b[1;33m\u001b[0m\u001b[1;33m\u001b[0m\u001b[0m\n",
      "\u001b[1;32m~\\anaconda3\\lib\\site-packages\\selenium\\webdriver\\remote\\webdriver.py\u001b[0m in \u001b[0;36mfind_element_by_css_selector\u001b[1;34m(self, css_selector)\u001b[0m\n\u001b[0;32m    596\u001b[0m             \u001b[0melement\u001b[0m \u001b[1;33m=\u001b[0m \u001b[0mdriver\u001b[0m\u001b[1;33m.\u001b[0m\u001b[0mfind_element_by_css_selector\u001b[0m\u001b[1;33m(\u001b[0m\u001b[1;34m'#foo'\u001b[0m\u001b[1;33m)\u001b[0m\u001b[1;33m\u001b[0m\u001b[1;33m\u001b[0m\u001b[0m\n\u001b[0;32m    597\u001b[0m         \"\"\"\n\u001b[1;32m--> 598\u001b[1;33m         \u001b[1;32mreturn\u001b[0m \u001b[0mself\u001b[0m\u001b[1;33m.\u001b[0m\u001b[0mfind_element\u001b[0m\u001b[1;33m(\u001b[0m\u001b[0mby\u001b[0m\u001b[1;33m=\u001b[0m\u001b[0mBy\u001b[0m\u001b[1;33m.\u001b[0m\u001b[0mCSS_SELECTOR\u001b[0m\u001b[1;33m,\u001b[0m \u001b[0mvalue\u001b[0m\u001b[1;33m=\u001b[0m\u001b[0mcss_selector\u001b[0m\u001b[1;33m)\u001b[0m\u001b[1;33m\u001b[0m\u001b[1;33m\u001b[0m\u001b[0m\n\u001b[0m\u001b[0;32m    599\u001b[0m \u001b[1;33m\u001b[0m\u001b[0m\n\u001b[0;32m    600\u001b[0m     \u001b[1;32mdef\u001b[0m \u001b[0mfind_elements_by_css_selector\u001b[0m\u001b[1;33m(\u001b[0m\u001b[0mself\u001b[0m\u001b[1;33m,\u001b[0m \u001b[0mcss_selector\u001b[0m\u001b[1;33m)\u001b[0m\u001b[1;33m:\u001b[0m\u001b[1;33m\u001b[0m\u001b[1;33m\u001b[0m\u001b[0m\n",
      "\u001b[1;32m~\\anaconda3\\lib\\site-packages\\selenium\\webdriver\\remote\\webdriver.py\u001b[0m in \u001b[0;36mfind_element\u001b[1;34m(self, by, value)\u001b[0m\n\u001b[0;32m    974\u001b[0m                 \u001b[0mby\u001b[0m \u001b[1;33m=\u001b[0m \u001b[0mBy\u001b[0m\u001b[1;33m.\u001b[0m\u001b[0mCSS_SELECTOR\u001b[0m\u001b[1;33m\u001b[0m\u001b[1;33m\u001b[0m\u001b[0m\n\u001b[0;32m    975\u001b[0m                 \u001b[0mvalue\u001b[0m \u001b[1;33m=\u001b[0m \u001b[1;34m'[name=\"%s\"]'\u001b[0m \u001b[1;33m%\u001b[0m \u001b[0mvalue\u001b[0m\u001b[1;33m\u001b[0m\u001b[1;33m\u001b[0m\u001b[0m\n\u001b[1;32m--> 976\u001b[1;33m         return self.execute(Command.FIND_ELEMENT, {\n\u001b[0m\u001b[0;32m    977\u001b[0m             \u001b[1;34m'using'\u001b[0m\u001b[1;33m:\u001b[0m \u001b[0mby\u001b[0m\u001b[1;33m,\u001b[0m\u001b[1;33m\u001b[0m\u001b[1;33m\u001b[0m\u001b[0m\n\u001b[0;32m    978\u001b[0m             'value': value})['value']\n",
      "\u001b[1;32m~\\anaconda3\\lib\\site-packages\\selenium\\webdriver\\remote\\webdriver.py\u001b[0m in \u001b[0;36mexecute\u001b[1;34m(self, driver_command, params)\u001b[0m\n\u001b[0;32m    319\u001b[0m         \u001b[0mresponse\u001b[0m \u001b[1;33m=\u001b[0m \u001b[0mself\u001b[0m\u001b[1;33m.\u001b[0m\u001b[0mcommand_executor\u001b[0m\u001b[1;33m.\u001b[0m\u001b[0mexecute\u001b[0m\u001b[1;33m(\u001b[0m\u001b[0mdriver_command\u001b[0m\u001b[1;33m,\u001b[0m \u001b[0mparams\u001b[0m\u001b[1;33m)\u001b[0m\u001b[1;33m\u001b[0m\u001b[1;33m\u001b[0m\u001b[0m\n\u001b[0;32m    320\u001b[0m         \u001b[1;32mif\u001b[0m \u001b[0mresponse\u001b[0m\u001b[1;33m:\u001b[0m\u001b[1;33m\u001b[0m\u001b[1;33m\u001b[0m\u001b[0m\n\u001b[1;32m--> 321\u001b[1;33m             \u001b[0mself\u001b[0m\u001b[1;33m.\u001b[0m\u001b[0merror_handler\u001b[0m\u001b[1;33m.\u001b[0m\u001b[0mcheck_response\u001b[0m\u001b[1;33m(\u001b[0m\u001b[0mresponse\u001b[0m\u001b[1;33m)\u001b[0m\u001b[1;33m\u001b[0m\u001b[1;33m\u001b[0m\u001b[0m\n\u001b[0m\u001b[0;32m    322\u001b[0m             response['value'] = self._unwrap_value(\n\u001b[0;32m    323\u001b[0m                 response.get('value', None))\n",
      "\u001b[1;32m~\\anaconda3\\lib\\site-packages\\selenium\\webdriver\\remote\\errorhandler.py\u001b[0m in \u001b[0;36mcheck_response\u001b[1;34m(self, response)\u001b[0m\n\u001b[0;32m    240\u001b[0m                 \u001b[0malert_text\u001b[0m \u001b[1;33m=\u001b[0m \u001b[0mvalue\u001b[0m\u001b[1;33m[\u001b[0m\u001b[1;34m'alert'\u001b[0m\u001b[1;33m]\u001b[0m\u001b[1;33m.\u001b[0m\u001b[0mget\u001b[0m\u001b[1;33m(\u001b[0m\u001b[1;34m'text'\u001b[0m\u001b[1;33m)\u001b[0m\u001b[1;33m\u001b[0m\u001b[1;33m\u001b[0m\u001b[0m\n\u001b[0;32m    241\u001b[0m             \u001b[1;32mraise\u001b[0m \u001b[0mexception_class\u001b[0m\u001b[1;33m(\u001b[0m\u001b[0mmessage\u001b[0m\u001b[1;33m,\u001b[0m \u001b[0mscreen\u001b[0m\u001b[1;33m,\u001b[0m \u001b[0mstacktrace\u001b[0m\u001b[1;33m,\u001b[0m \u001b[0malert_text\u001b[0m\u001b[1;33m)\u001b[0m\u001b[1;33m\u001b[0m\u001b[1;33m\u001b[0m\u001b[0m\n\u001b[1;32m--> 242\u001b[1;33m         \u001b[1;32mraise\u001b[0m \u001b[0mexception_class\u001b[0m\u001b[1;33m(\u001b[0m\u001b[0mmessage\u001b[0m\u001b[1;33m,\u001b[0m \u001b[0mscreen\u001b[0m\u001b[1;33m,\u001b[0m \u001b[0mstacktrace\u001b[0m\u001b[1;33m)\u001b[0m\u001b[1;33m\u001b[0m\u001b[1;33m\u001b[0m\u001b[0m\n\u001b[0m\u001b[0;32m    243\u001b[0m \u001b[1;33m\u001b[0m\u001b[0m\n\u001b[0;32m    244\u001b[0m     \u001b[1;32mdef\u001b[0m \u001b[0m_value_or_default\u001b[0m\u001b[1;33m(\u001b[0m\u001b[0mself\u001b[0m\u001b[1;33m,\u001b[0m \u001b[0mobj\u001b[0m\u001b[1;33m,\u001b[0m \u001b[0mkey\u001b[0m\u001b[1;33m,\u001b[0m \u001b[0mdefault\u001b[0m\u001b[1;33m)\u001b[0m\u001b[1;33m:\u001b[0m\u001b[1;33m\u001b[0m\u001b[1;33m\u001b[0m\u001b[0m\n",
      "\u001b[1;31mNoSuchElementException\u001b[0m: Message: no such element: Unable to locate element: {\"method\":\"css selector\",\"selector\":\"div.webix_ss_body > div.webix_ss_center > div > div:nth-child(3)\"}\n  (Session info: chrome=91.0.4472.124)\n"
     ]
    }
   ],
   "source": [
    "\n",
    "random_x =random.uniform(0.5, 0.7)\n",
    "random_y =random.uniform(1.4, 1.8)\n",
    "random_z =random.uniform(6.28, 6.55)\n",
    "\n",
    "# campaign_aos는 캠페인 명\n",
    "for campaign in campaign_list:\n",
    "# 앱스플라이어 로그인\n",
    "    driver.get('https://hq1.appsflyer.com/dashboard/overview/'+campaign_dic.get(campaign)+'#end='+today+'&grouping=attribution&mediaSource=mobione_int&start='+today)\n",
    "    \n",
    "    time.sleep(random_x)  # 막힘 방지용 랜덤 실수 반환, 사실은 0.4만 해도 충분\n",
    "    if campaign[-6:]!=\"_media\":    \n",
    "        try: #로그인 필요 없으면 패스\n",
    "            driver.find_element_by_id('user-email').send_keys('globalsales@mobidays.com')\n",
    "            driver.find_element_by_id('password-field').send_keys('Mobi2020#@!$')\n",
    "            driver.find_element_by_xpath('//*[@id=\"login-form\"]/div[6]/button').click()\n",
    "        except:\n",
    "            pass\n",
    "        time.sleep(random_z)\n",
    "        if campaign in [\"lord_kr_aos\", \"lord_kr_ios\"]:\n",
    "            time.sleep(random_y)\n",
    "            lord_type = driver.find_element_by_css_selector('div.webix_ss_body > div.webix_ss_left > div > div > div:nth-child(1)').text\n",
    "            if lord_type[-2:] ==\"KR\":\n",
    "                click= driver.find_element_by_css_selector('div.webix_ss_body > div.webix_ss_center > div > div:nth-child(3) > div:nth-child(1)').text\n",
    "                install = driver.find_element_by_css_selector('div.webix_ss_body > div.webix_ss_center > div > div.webix_column.af-webix-table-integer-column.af-webix-table-thin-grouped-column.af-webix-start-table-section-column > div:nth-child(1)').text\n",
    "            elif lord_type[-2:] ==\"US\": #첫번째 캠페인이 us면 두번째 캠페인 정보를 kr로 가져오겠다\n",
    "                click= driver.find_element_by_css_selector('div.webix_ss_body > div.webix_ss_center > div > div:nth-child(3) > div:nth-child(2)').text\n",
    "                install = driver.find_element_by_css_selector('div.webix_ss_body > div.webix_ss_center > div > div.webix_column.af-webix-table-integer-column.af-webix-table-thin-grouped-column.af-webix-start-table-section-column > div:nth-child(2)').text\n",
    "            else:\n",
    "                click=\"국가명 확인필요\"\n",
    "                install=\"국가명 확인필요\"\n",
    "        \n",
    "    \n",
    "#         elif campaign in [\"lord_us_aos\", \"lord_us_ios\"]:\n",
    "#             time.sleep(random_y)\n",
    "#             lord_type = driver.find_element_by_css_selector('div.webix_ss_body > div.webix_ss_left > div > div > div:nth-child(1)').text\n",
    "#             if lord_type[-2:] ==\"US\": #첫번째 캠페인이 US면 첫번째 테이블의 정보를 US로 가져오겠다\n",
    "#                 click= driver.find_element_by_css_selector('div.webix_ss_body > div.webix_ss_center > div > div:nth-child(3) > div:nth-child(1)').text\n",
    "#                 install = driver.find_element_by_css_selector('div.webix_ss_body > div.webix_ss_center > div > div.webix_column.af-webix-table-integer-column.af-webix-table-thin-grouped-column.af-webix-start-table-section-column > div:nth-child(1)').text\n",
    "#             elif lord_type[-2:] ==\"KR\":\n",
    "#                 click= driver.find_element_by_css_selector('div.webix_ss_body > div.webix_ss_center > div > div:nth-child(3) > div:nth-child(2)').text\n",
    "#                 install = driver.find_element_by_css_selector('div.webix_ss_body > div.webix_ss_center > div > div.webix_column.af-webix-table-integer-column.af-webix-table-thin-grouped-column.af-webix-start-table-section-column > div:nth-child(2)').text\n",
    "#             else:\n",
    "#                 click=\"국가명 확인필요\"\n",
    "#                 install=\"국가명 확인필요\"\n",
    "\n",
    "\n",
    "        else:       #로드오브 히어로즈 외 캠페인들\n",
    "            time.sleep(random_y)\n",
    "            click = driver.find_element_by_css_selector('div.webix_ss_body > div.webix_ss_center > div > div:nth-child(3)').text\n",
    "            click\n",
    "            install = driver.find_element_by_css_selector('div.webix_ss_body > div.webix_ss_center > div > div.webix_column.af-webix-table-integer-column.af-webix-table-thin-grouped-column.af-webix-start-table-section-column > div').text\n",
    "            install\n",
    "        \n",
    "    else:   # 미디어 계정인 경우\n",
    "        driver.quit()\n",
    "\n",
    "    # 앱스플라이어 자동로그인\n",
    "        options = Options()\n",
    "        ua = UserAgent()\n",
    "        userAgent = ua.random\n",
    "        print(userAgent)\n",
    "        options.add_argument(f'user-agent={userAgent}')\n",
    "        driver = webdriver.Chrome(chrome_options=options, executable_path=r'./chromedriver.exe')\n",
    "        \n",
    "        driver.get('https://hq1.appsflyer.com/dashboard/overview/'+campaign_dic.get(campaign)+'#end='+today+'&grouping=attribution&mediaSource=mobione_int&start='+today)\n",
    "        time.sleep(random_x)\n",
    "        \n",
    "\n",
    "        driver.find_element_by_id('user-email').send_keys('mediasolution@mobidays.com')\n",
    "        driver.find_element_by_id('password-field').send_keys('Af010203!dX')\n",
    "        driver.find_element_by_xpath('//*[@id=\"login-form\"]/div[6]/button').click()\n",
    "        time.sleep(random_z)  \n",
    "        \n",
    "        try:\n",
    "            click = driver.find_element_by_css_selector('div.webix_ss_body > div.webix_ss_center > div > div:nth-child(3)').text\n",
    "            click\n",
    "            install = driver.find_element_by_css_selector('div.webix_ss_body > div.webix_ss_center > div > div.webix_column.af-webix-table-integer-column.af-webix-table-thin-grouped-column.af-webix-start-table-section-column > div').text\n",
    "            install\n",
    "        except:\n",
    "            pass  #종료된 캠페인일 경우 패스(click, install값이 안나올 것이므로)\n",
    "        \n",
    "    # for문의 campaign을 못받아와서 무조건 실행 while문 사용\n",
    "    while True:\n",
    "    # 시간에 따른 셀이동 수정 필요\n",
    "#         sheet1.update_acell(str(campaign_gsnum_dic.get(campaign))+str(9+date_gs*4), click)  # date_gs*4는 일자 기준(나중에 시간 기준으로 하면 변경해야 함)\n",
    "#         sheet1.update_acell(str(campaign_gsnum_dic.get(campaign))+str(10+date_gs*4), install)\n",
    "        sheet1.update_acell(str(campaign_gsnum_dic.get(campaign))+str(9), click)  # date_gs*4는 일자 기준(나중에 시간 기준으로 하면 변경해야 함)\n",
    "        sheet1.update_acell(str(campaign_gsnum_dic.get(campaign))+str(10), install)\n",
    "\n",
    "        break;\n",
    "\n",
    "\n",
    "    \n",
    "    \n",
    "# driver.quit()"
   ]
  },
  {
   "cell_type": "code",
   "execution_count": null,
   "metadata": {},
   "outputs": [],
   "source": []
  }
 ],
 "metadata": {
  "kernelspec": {
   "display_name": "Python 3",
   "language": "python",
   "name": "python3"
  },
  "language_info": {
   "codemirror_mode": {
    "name": "ipython",
    "version": 3
   },
   "file_extension": ".py",
   "mimetype": "text/x-python",
   "name": "python",
   "nbconvert_exporter": "python",
   "pygments_lexer": "ipython3",
   "version": "3.8.5"
  }
 },
 "nbformat": 4,
 "nbformat_minor": 4
}
