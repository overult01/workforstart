{
 "cells": [
  {
   "cell_type": "code",
   "execution_count": null,
   "metadata": {},
   "outputs": [],
   "source": [
    "#af 클릭 자동 모니터링"
   ]
  },
  {
   "cell_type": "code",
   "execution_count": 142,
   "metadata": {},
   "outputs": [],
   "source": [
    "# !pip install chromedriver-autoinstaller\n",
    "from selenium.webdriver.support.select import Select\n",
    "from selenium import webdriver\n",
    "from selenium.webdriver.chrome.options import Options\n",
    "from fake_useragent import UserAgent\n",
    "from bs4 import BeautifulSoup\n",
    "import time\n",
    "# import MadeFunction\n",
    "import datetime\n",
    "from oauth2client.service_account import ServiceAccountCredentials #스프레드 시트 관련\n",
    "import gspread"
   ]
  },
  {
   "cell_type": "code",
   "execution_count": 143,
   "metadata": {},
   "outputs": [],
   "source": [
    "# b = webdriver.Firefox()\n"
   ]
  },
  {
   "cell_type": "code",
   "execution_count": 144,
   "metadata": {},
   "outputs": [
    {
     "name": "stdout",
     "output_type": "stream",
     "text": [
      "Mozilla/5.0 (Windows NT 6.3; Win64; x64) AppleWebKit/537.36 (KHTML, like Gecko) Chrome/37.0.2049.0 Safari/537.36\n"
     ]
    },
    {
     "name": "stderr",
     "output_type": "stream",
     "text": [
      "<ipython-input-144-ca3ef673975a>:8: DeprecationWarning: use options instead of chrome_options\n",
      "  driver = webdriver.Chrome(chrome_options=options, executable_path=r'./chromedriver.exe')\n"
     ]
    }
   ],
   "source": [
    "\n",
    "# 앱스플라이어 자동로그인\n",
    "\n",
    "options = Options()\n",
    "ua = UserAgent()\n",
    "userAgent = ua.random\n",
    "print(userAgent)\n",
    "options.add_argument(f'user-agent={userAgent}')\n",
    "driver = webdriver.Chrome(chrome_options=options, executable_path=r'./chromedriver.exe')\n",
    "# driver.get(\"http://admin.mobiconnect.co.kr/admin/login\")\n",
    "# driver.quit()"
   ]
  },
  {
   "cell_type": "code",
   "execution_count": 145,
   "metadata": {},
   "outputs": [
    {
     "data": {
      "text/plain": [
       "'2021-06-23-20:38'"
      ]
     },
     "execution_count": 145,
     "metadata": {},
     "output_type": "execute_result"
    }
   ],
   "source": [
    "today= str(datetime.datetime.now().strftime(\"%Y-%m-%d\"))\n",
    "today_time = str(datetime.datetime.now().strftime(\"%Y-%m-%d-%H:%M\"))\n",
    "days_ago = datetime.datetime.now() - datetime.timedelta(days=1)\n",
    "yesterday= str(days_ago.strftime(\"%Y-%m-%d\"))\n",
    "today\n",
    "today_time"
   ]
  },
  {
   "cell_type": "code",
   "execution_count": 146,
   "metadata": {},
   "outputs": [
    {
     "data": {
      "text/plain": [
       "['realfarm', 'godticket', 'grow', 'goldspoon', 'lord']"
      ]
     },
     "execution_count": 146,
     "metadata": {},
     "output_type": "execute_result"
    }
   ],
   "source": [
    "campaign_aos_dic = {'realfarm':\"kr.neogames.realfarm\", 'godticket':\"godticket.mobile\", 'grow':\"kr.co.grow.app\", 'goldspoon':\"com.goldspoon\", 'lord':\"com.clovergames.lordofheroes\"}\n",
    "campaign_aos_list = list(campaign_aos_dic.keys())\n",
    "campaign_aos_list"
   ]
  },
  {
   "cell_type": "code",
   "execution_count": 147,
   "metadata": {},
   "outputs": [],
   "source": [
    "# #임시\n",
    "# driver.get('https://hq1.appsflyer.com/dashboard/overview/kr.neogames.realfarm#end=2021-06-23&grouping=attribution&start=2021-06-23')\n",
    "# driver.find_element_by_id('user-email').send_keys('globalsales@mobidays.com')\n",
    "# driver.find_element_by_id('password-field').send_keys('Mobi2020#@!$')\n",
    "# driver.find_element_by_xpath('//*[@id=\"login-form\"]/div[6]/button').click()"
   ]
  },
  {
   "cell_type": "code",
   "execution_count": 148,
   "metadata": {},
   "outputs": [],
   "source": [
    "cnt=0\n",
    "for campaign_aos in campaign_aos_list:\n",
    "# 앱스플라이어 로그인\n",
    "    driver.get('https://hq1.appsflyer.com/dashboard/overview/'+campaign_aos_dic.get(campaign_aos)+'#end='+today+'&grouping=attribution&start='+today)\n",
    "    time.sleep(0.9)\n",
    "    if cnt==0:#처음일때만 로그인\n",
    "        try: #로그인 필요 없으면 패스\n",
    "            driver.find_element_by_id('user-email').send_keys('globalsales@mobidays.com')\n",
    "            driver.find_element_by_id('password-field').send_keys('Mobi2020#@!$')\n",
    "            driver.find_element_by_xpath('//*[@id=\"login-form\"]/div[6]/button').click()\n",
    "            cnt+=1\n",
    "        except:\n",
    "            pass\n",
    "    else:\n",
    "        break\n",
    "    time.sleep(0.9)"
   ]
  },
  {
   "cell_type": "code",
   "execution_count": 149,
   "metadata": {},
   "outputs": [],
   "source": [
    "# select_arw = driver.find_element_by_xpath('//*[@id=\"app\"]/div/div[2]/div[2]/div/div/div/div[1]/div[1]/div[2]/div[1]/div/div/div[2]/div/div/div/div/span').click()\n",
    "# time.sleep(0.3)"
   ]
  },
  {
   "cell_type": "code",
   "execution_count": 150,
   "metadata": {},
   "outputs": [],
   "source": [
    "#필터 조건 입력\n",
    "driver.find_element_by_xpath('//*[@id=\"app\"]/div/div[2]/div[2]/div/div/div/div[1]/div[1]/div[2]/div[1]/div/div/div[2]/div/div/div/div[1]/span/div/div/div[2]/div/span/input').send_keys('mobione_int')\n",
    "driver.find_element_by_xpath('//*[@id=\"dropdown-list-1\"]/div/div/div/div/div[2]/div/label').click()\n",
    "# driver.find_element_by_xpath('//*[@id=\"app\"]/div/div[2]/div[2]/div/div/div/div[2]').click()"
   ]
  },
  {
   "cell_type": "code",
   "execution_count": 154,
   "metadata": {},
   "outputs": [
    {
     "data": {
      "text/plain": [
       "'90'"
      ]
     },
     "execution_count": 154,
     "metadata": {},
     "output_type": "execute_result"
    }
   ],
   "source": [
    "#data 테이블명이 캠페인마다 다름\n",
    "\n",
    "click = driver.find_element_by_xpath('//*[@id=\"datatable1624448404839\"]/div[2]/div[2]/div/div[3]/div').text\n",
    "click\n",
    "install = driver.find_element_by_xpath('//*[@id=\"datatable1624448404839\"]/div[2]/div[2]/div/div[4]/div').text\n",
    "install"
   ]
  },
  {
   "cell_type": "code",
   "execution_count": 155,
   "metadata": {},
   "outputs": [
    {
     "data": {
      "text/plain": [
       "0"
      ]
     },
     "execution_count": 155,
     "metadata": {},
     "output_type": "execute_result"
    }
   ],
   "source": [
    "time1 = datetime.datetime(2021, 6, 23, 9, 0, 0) #기준일 21/06/23\n",
    "time2 = datetime.datetime.now()\n",
    "date_gs = (time2-time1).days # 기준날짜와 오늘 날짜의 차\n",
    "date_gs"
   ]
  },
  {
   "cell_type": "code",
   "execution_count": 157,
   "metadata": {},
   "outputs": [
    {
     "data": {
      "text/plain": [
       "{'spreadsheetId': '15r6Ts8XR_rZ90wZ--gcgrdXwu43tydEN6MWyCmHPukg',\n",
       " 'updatedRange': \"'AF모니터링의 사본'!G9\",\n",
       " 'updatedRows': 1,\n",
       " 'updatedColumns': 1,\n",
       " 'updatedCells': 1}"
      ]
     },
     "execution_count": 157,
     "metadata": {},
     "output_type": "execute_result"
    }
   ],
   "source": [
    "    # 구글 시트에 입력 \n",
    "scope = ['https://spreadsheets.google.com/feeds']\n",
    "json_file_name = './rpadaily-a0b4f0f12ff6.json'\n",
    "credentials = ServiceAccountCredentials.from_json_keyfile_name(json_file_name, scope)\n",
    "gc = gspread.authorize(credentials)\n",
    "    #찾아갈 시트주소\n",
    "spreadsheet_url = 'https://docs.google.com/spreadsheets/d/15r6Ts8XR_rZ90wZ--gcgrdXwu43tydEN6MWyCmHPukg/edit#gid=1687502285'\n",
    "    \n",
    "doc = gc.open_by_url(spreadsheet_url)\n",
    "sheet1 = doc.worksheet('AF모니터링의 사본')\n",
    "#     if campaign_aos == \"realfarm\":\n",
    "            \n",
    "    # 기준일(469+ 차이, but 매달 수정해줘야 함)\n",
    "sheet1.update_acell('f'+str(9+date_gs), click)\n",
    "sheet1.update_acell('g'+str(9+date_gs), install)\n",
    "    \n",
    "# driver.quit()"
   ]
  },
  {
   "cell_type": "code",
   "execution_count": null,
   "metadata": {},
   "outputs": [],
   "source": []
  }
 ],
 "metadata": {
  "kernelspec": {
   "display_name": "Python 3",
   "language": "python",
   "name": "python3"
  },
  "language_info": {
   "codemirror_mode": {
    "name": "ipython",
    "version": 3
   },
   "file_extension": ".py",
   "mimetype": "text/x-python",
   "name": "python",
   "nbconvert_exporter": "python",
   "pygments_lexer": "ipython3",
   "version": "3.8.5"
  }
 },
 "nbformat": 4,
 "nbformat_minor": 4
}
