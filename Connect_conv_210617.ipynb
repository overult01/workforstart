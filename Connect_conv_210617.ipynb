{
 "cells": [
  {
   "cell_type": "code",
   "execution_count": 1,
   "metadata": {},
   "outputs": [],
   "source": [
    "import xlwings as xw\n",
    "import glob\n",
    "import os\n",
    "import pandas as pd\n",
    "import openpyxl\n",
    "import datetime\n",
    "import time"
   ]
  },
  {
   "cell_type": "code",
   "execution_count": 2,
   "metadata": {},
   "outputs": [
    {
     "name": "stdout",
     "output_type": "stream",
     "text": [
      "캠페인 id 입력: \n",
      "추출 이벤트 입력: \n",
      "추출 시작 날짜 입력: 2021-06-14 형식으로\n"
     ]
    }
   ],
   "source": [
    "#다운로드 먼저 시작\n",
    "campaign_id=input(\"캠페인 id 입력: \")\n",
    "events = input(\"추출 이벤트 입력: \")\n",
    "days = input(\"추출 시작 날짜 입력: 2021-06-14 형식으로\")"
   ]
  },
  {
   "cell_type": "code",
   "execution_count": 3,
   "metadata": {},
   "outputs": [
    {
     "name": "stdout",
     "output_type": "stream",
     "text": [
      "2021-06-21\n"
     ]
    }
   ],
   "source": [
    "days_ago = datetime.datetime.now() - datetime.timedelta(days=1)\n",
    "yesterday= days_ago.strftime(\"%Y-%m-%d\")\n",
    "print(yesterday)"
   ]
  },
  {
   "cell_type": "code",
   "execution_count": 4,
   "metadata": {},
   "outputs": [
    {
     "name": "stdout",
     "output_type": "stream",
     "text": [
      "Mozilla/5.0 (Windows NT 6.1; WOW64) AppleWebKit/537.36 (KHTML, like Gecko) Chrome/31.0.1623.0 Safari/537.36\n"
     ]
    },
    {
     "name": "stderr",
     "output_type": "stream",
     "text": [
      "C:\\anaconda3\\lib\\site-packages\\ipykernel_launcher.py:10: DeprecationWarning: use options instead of chrome_options\n",
      "  # Remove the CWD from sys.path while we load stuff.\n"
     ]
    }
   ],
   "source": [
    "from selenium import webdriver\n",
    "from selenium.webdriver.chrome.options import Options\n",
    "from fake_useragent import UserAgent\n",
    "\n",
    "options = Options()\n",
    "ua = UserAgent()\n",
    "userAgent = ua.random\n",
    "print(userAgent)\n",
    "options.add_argument(f'user-agent={userAgent}')\n",
    "driver = webdriver.Chrome(chrome_options=options, executable_path=r'G:\\내 드라이브\\업무\\dev\\RPA\\chromedriver.exe')\n",
    "# driver.get(\"http://admin.mobiconnect.co.kr/admin/login\")\n",
    "# driver.quit()"
   ]
  },
  {
   "cell_type": "code",
   "execution_count": 5,
   "metadata": {},
   "outputs": [],
   "source": [
    "driver.get('http://admin.mobiconnect.co.kr/admin/login')\n",
    "driver.find_element_by_id('userId').send_keys('jmyang')\n",
    "driver.find_element_by_id('userPwd').send_keys('mobi1109')\n",
    "driver.find_element_by_xpath('//*[@id=\"frm\"]/li[4]/input').click()"
   ]
  },
  {
   "cell_type": "code",
   "execution_count": 6,
   "metadata": {},
   "outputs": [],
   "source": [
    "time.sleep(0.7)\n",
    "# 컨버젼 추출 페이지로 이동\n",
    "driver.get(\"http://admin.mobiconnect.co.kr/admin/adadminreport/getAdminConversionReportForm\")"
   ]
  },
  {
   "cell_type": "code",
   "execution_count": 7,
   "metadata": {},
   "outputs": [],
   "source": [
    "# driver.find_element_by_xpath('//*[@id=\"startdate\"]').click()\n",
    "# driver.find_element_by_xpath('/html/body/div[1]/div[3]/div[2]/div[2]/div/form/div[1]/div[2]/span[2]/input').click().send_keys(yesterday)"
   ]
  },
  {
   "cell_type": "code",
   "execution_count": null,
   "metadata": {},
   "outputs": [],
   "source": []
  },
  {
   "cell_type": "code",
   "execution_count": null,
   "metadata": {},
   "outputs": [],
   "source": []
  },
  {
   "cell_type": "code",
   "execution_count": 8,
   "metadata": {},
   "outputs": [
    {
     "name": "stdout",
     "output_type": "stream",
     "text": [
      "엑셀 파일 내 작업 완료를 클릭해주세요\n",
      "작업 끝\n"
     ]
    }
   ],
   "source": [
    "# 다운받은 csv에 매크로 자동실행\n",
    "# 파일 확장자가 csv인 파일만 순차적으로 실행 \n",
    "for file in glob.glob(\"./*.csv\"):\n",
    "    fileName_only = os.path.basename(file) \n",
    "    # 파일명 # --------------[추가구현]-------------- # csv내 데이터를 xlsm파일에 붙여넣기 \n",
    "    #첫 번째 열을 인덱스로 사용\n",
    "    csv_file = pd.read_csv(fileName_only, index_col = 0) \n",
    "    wb = xw.Book()\n",
    "    wb.sheets['Sheet1'].range('A1').value = csv_file \n",
    "\n",
    "\n",
    "    # ------------------------------------ # xlsm파일 내 hello 매크로 실행 \n",
    "        \n",
    "    macro_vba = wb.app.macro(\"'PERSONAL.XLSB'!Run_All\") \n",
    "    macro_vba() \n",
    "    wb.close() \n",
    "    print(\"엑셀 파일 내 작업 완료를 클릭해주세요\")\n",
    "    \n",
    "#         wb = xw.Book('(원본)'+str(fileName_only)+'.xlsm')\n",
    "    \n",
    "print(\"작업 끝\")\n",
    "    \n",
    "    "
   ]
  },
  {
   "cell_type": "code",
   "execution_count": 9,
   "metadata": {},
   "outputs": [],
   "source": [
    "import os\n",
    "import datetime\n",
    " \n",
    "def createFolder(directory):\n",
    "    try:\n",
    "        if not os.path.exists(directory):\n",
    "            os.makedirs(directory)\n",
    "    except OSError:\n",
    "        print ('Error: Creating directory. ' +  directory)\n",
    "\n",
    "        \n"
   ]
  },
  {
   "cell_type": "code",
   "execution_count": 10,
   "metadata": {},
   "outputs": [
    {
     "ename": "SyntaxError",
     "evalue": "EOL while scanning string literal (<ipython-input-10-680ab11fdb5d>, line 2)",
     "output_type": "error",
     "traceback": [
      "\u001b[1;36m  File \u001b[1;32m\"<ipython-input-10-680ab11fdb5d>\"\u001b[1;36m, line \u001b[1;32m2\u001b[0m\n\u001b[1;33m    folder_name = str(campaign)+ str(datetime.datetime.now().strftime(\"%Y-%m-%d)+'_'\u001b[0m\n\u001b[1;37m                                                                                     ^\u001b[0m\n\u001b[1;31mSyntaxError\u001b[0m\u001b[1;31m:\u001b[0m EOL while scanning string literal\n"
     ]
    }
   ],
   "source": [
    "campaign = input(\"영문 캠페인 명: \")\n",
    "folder_name = str(campaign)+ str(datetime.datetime.now().strftime(\"%Y-%m-%d)+'_' \n",
    "createFolder(folder_name)        \n"
   ]
  },
  {
   "cell_type": "code",
   "execution_count": null,
   "metadata": {},
   "outputs": [],
   "source": [
    "createFolder('G:\\내 드라이브\\업무\\퀄리티리포트'+)"
   ]
  }
 ],
 "metadata": {
  "kernelspec": {
   "display_name": "Python 3",
   "language": "python",
   "name": "python3"
  },
  "language_info": {
   "codemirror_mode": {
    "name": "ipython",
    "version": 3
   },
   "file_extension": ".py",
   "mimetype": "text/x-python",
   "name": "python",
   "nbconvert_exporter": "python",
   "pygments_lexer": "ipython3",
   "version": "3.7.3"
  }
 },
 "nbformat": 4,
 "nbformat_minor": 2
}
