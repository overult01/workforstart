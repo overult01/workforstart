{
 "cells": [
  {
   "cell_type": "code",
   "execution_count": 2,
   "metadata": {},
   "outputs": [
    {
     "name": "stdout",
     "output_type": "stream",
     "text": [
      "Requirement already satisfied: chromedriver-autoinstaller in c:\\users\\pc\\anaconda3\\lib\\site-packages (0.2.2)\n"
     ]
    }
   ],
   "source": [
    "# !pip install chromedriver-autoinstaller"
   ]
  },
  {
   "cell_type": "code",
   "execution_count": 12,
   "metadata": {},
   "outputs": [
    {
     "name": "stdout",
     "output_type": "stream",
     "text": [
      "Mozilla/5.0 (Windows NT 5.1) AppleWebKit/537.36 (KHTML, like Gecko) Chrome/27.0.1453.93 Safari/537.36\n"
     ]
    },
    {
     "name": "stderr",
     "output_type": "stream",
     "text": [
      "<ipython-input-12-00814ba1ba8c>:16: DeprecationWarning: use options instead of chrome_options\n",
      "  driver = webdriver.Chrome(chrome_options=options, executable_path=r'./chromedriver.exe')\n"
     ]
    }
   ],
   "source": [
    "\n",
    "# 앱스플라이어 자동로그인\n",
    " \n",
    "from selenium import webdriver\n",
    "from selenium.webdriver.chrome.options import Options\n",
    "from fake_useragent import UserAgent\n",
    "from bs4 import BeautifulSoup\n",
    "import time\n",
    "# import MadeFunction\n",
    "import datetime\n",
    "\n",
    "options = Options()\n",
    "ua = UserAgent()\n",
    "userAgent = ua.random\n",
    "print(userAgent)\n",
    "options.add_argument(f'user-agent={userAgent}')\n",
    "driver = webdriver.Chrome(chrome_options=options, executable_path=r'./chromedriver.exe')\n",
    "# driver.get(\"http://admin.mobiconnect.co.kr/admin/login\")\n",
    "# driver.quit()\n",
    "\n",
    "days_ago = datetime.datetime.now() - datetime.timedelta(days=1)\n",
    "yesterday= str(days_ago.strftime(\"%Y-%m-%d\"))\n"
   ]
  },
  {
   "cell_type": "code",
   "execution_count": 13,
   "metadata": {},
   "outputs": [],
   "source": [
    "\n",
    "# 앱스플라이어 로그인(캠페인_브랜디)\n",
    "driver.get('https://hq1.appsflyer.com/dashboard/overview/com.brandicorp.brandi3#end='+yesterday+'&grouping=attribution&start='+yesterday)\n",
    "time.sleep(0.9)\n",
    "driver.find_element_by_id('user-email').send_keys('globalsales@mobidays.com')\n",
    "driver.find_element_by_id('password-field').send_keys('Mobi2020#@!$')\n",
    "driver.find_element_by_xpath('//*[@id=\"login-form\"]/div[6]/button').click()\n",
    "time.sleep(1.5)\n"
   ]
  },
  {
   "cell_type": "code",
   "execution_count": 14,
   "metadata": {},
   "outputs": [
    {
     "ename": "IndexError",
     "evalue": "list index out of range",
     "output_type": "error",
     "traceback": [
      "\u001b[1;31m---------------------------------------------------------------------------\u001b[0m",
      "\u001b[1;31mIndexError\u001b[0m                                Traceback (most recent call last)",
      "\u001b[1;32m<ipython-input-14-b3bf50f3c658>\u001b[0m in \u001b[0;36m<module>\u001b[1;34m\u001b[0m\n\u001b[1;32m----> 1\u001b[1;33m \u001b[0mclick_yesterday\u001b[0m \u001b[1;33m=\u001b[0m \u001b[0mdriver\u001b[0m\u001b[1;33m.\u001b[0m\u001b[0mfind_elements_by_css_selector\u001b[0m\u001b[1;33m(\u001b[0m\u001b[1;34m'#datatable1623821865797 > div.webix_ss_body > div.webix_ss_center > div > div:nth-child(2) > div'\u001b[0m\u001b[1;33m)\u001b[0m\u001b[1;33m[\u001b[0m\u001b[1;36m0\u001b[0m\u001b[1;33m]\u001b[0m\u001b[1;33m.\u001b[0m\u001b[0mtext\u001b[0m\u001b[1;33m\u001b[0m\u001b[1;33m\u001b[0m\u001b[0m\n\u001b[0m\u001b[0;32m      2\u001b[0m \u001b[0mclick_yesterday\u001b[0m\u001b[1;33m\u001b[0m\u001b[1;33m\u001b[0m\u001b[0m\n\u001b[0;32m      3\u001b[0m \u001b[1;33m\u001b[0m\u001b[0m\n\u001b[0;32m      4\u001b[0m \u001b[1;33m\u001b[0m\u001b[0m\n\u001b[0;32m      5\u001b[0m \u001b[1;33m\u001b[0m\u001b[0m\n",
      "\u001b[1;31mIndexError\u001b[0m: list index out of range"
     ]
    }
   ],
   "source": [
    "\n",
    "click_yesterday = driver.find_element_by_xpath('#datatable1623821865797 > div.webix_ss_body > div.webix_ss_center > div > div:nth-child(2) > div')[0].text\n",
    "click_yesterday\n",
    "\n",
    "\n",
    "\n",
    "#구글 스프레드 시트에 기입\n"
   ]
  },
  {
   "cell_type": "code",
   "execution_count": null,
   "metadata": {},
   "outputs": [],
   "source": [
    "install_yesterday = driver.find_elements_by_css_selector('#datatable1623821865797 > div.webix_ss_body > div.webix_ss_center > div > div.webix_column.af-webix-table-integer-column.af-webix-table-thin-grouped-column.af-webix-start-table-section-column > div')[0].text\n",
    "install_yesterday"
   ]
  },
  {
   "cell_type": "code",
   "execution_count": null,
   "metadata": {},
   "outputs": [],
   "source": [
    "\n",
    "\n",
    "# 데이터 추출(Export) 페이지로\n",
    "driver.find_element_by_css_selector('#app > div > div.app-frame-body > div.app-frame-side-menu > div.side-menu-items > div:nth-child(2) > a').click()\n",
    "time.sleep(1)\n",
    "\n",
    "# Most popular - User acquisition : in app event\n",
    "driver.find_element_by_css_selector('#app > div > div.app-frame-body > div.af-content > div > div:nth-child(3) > div > div.tab-content > div > div > div > div > div:nth-child(1) > div:nth-child(2) > div:nth-child(2) > div > a').click()\n",
    "time.sleep(0.5)\n",
    "\n",
    "driver.find_element_by_css_selector('#app > div > div.app-frame-body > div.af-content > div > div:nth-child(4) > div > div.tab-content > div > div > div > div > div.time-range-wrap > div > div > div.af-dropdown-container.input-container > div > div > div > div > div > i').click()\n",
    "time.sleep(0.2)\n",
    "driver.find_element_by_css_selector('#dropdown-list-2 > div > div:nth-child(3) > div').click()\n",
    "time.sleep(0.2)\n",
    "driver.find_element_by_css_selector('#app > div > div.app-frame-body > div.af-content > div > div:nth-child(4) > div > div.tab-content > div > div > div > div > div.af-core.form-control-wrapper.af-core.radio-group.inline.horizontal > div > div > div:nth-child(2) > div > div:nth-child(4) > label > span > i').click()\n",
    "time.sleep(0.2)\n",
    "\n",
    "driver.find_element_by_css_selector('#app > div > div.app-frame-body > div.af-content > div > div:nth-child(4) > div > div.tab-content > div > div > div > div > div.filter-tab > div > div.add-button-container > button > span').click()\n",
    "time.sleep(0.2)\n",
    "\n",
    "driver.find_element_by_css_selector('#app > div > div.app-frame-body > div.af-content > div > div:nth-child(4) > div > div.tab-content > div > div > div > div > div.filter-tab > div > div.af-core.af-table-container > div > table > tbody > div > div.filter-type-wrap > div > div > div.af-dropdown-container.input-container > div > div > div > div > div > i').click()\n",
    "time.sleep(0.3)\n",
    "\n",
    "driver.find_element_by_css_selector('#dropdown-list-3 > div > div:nth-child(2) > div').click()\n",
    "time.sleep(0.2)\n",
    "\n",
    "# driver.find_element_by_css_selector('#app > div > div.app-frame-body > div.af-content > div > div:nth-child(4) > div > div.tab-content > div > div > div > div > div.filter-tab > div > div.af-core.af-table-container > div > table > tbody > div > div.filter-value-wrap > div > div > div.af-dropdown-container.input-container > div > div > div > div > div > i').click()\n",
    "\n",
    "driver.find_element_by_css_selector('#app > div > div.app-frame-body > div.af-content > div > div:nth-child(4) > div > div.tab-content > div > div > div > div > div.filter-tab > div > div.af-core.af-table-container > div > table > tbody > div > div.filter-value-wrap > div > div > div.af-dropdown-container.input-container > div > div > div > div > span > div > div > div.af-tag-input.input-container.has-null.form-group > div > span > input').send_keys('registration')\n",
    "time.sleep(0.3)\n",
    "\n",
    "\n",
    "driver.find_element_by_css_selector('#dropdown-list-6 > div > div > div > div > div.checkbox-group-wrapper > div > label > div > div > div.af-tooltip-content > div > span').click()\n",
    "time.sleep(0.3)\n",
    "\n",
    "driver.find_element_by_css_selector('#app > div > div.app-frame-body > div.af-content > div > div.af-core.page-header > div:nth-child(2) > span:nth-child(2) > button').click()\n",
    "\n",
    "time.sleep(60*10)\n",
    "\n",
    "# import csv\n",
    "# with open('./com.brandicorp.brandi3_in_app_events_'+yesterday+'_'+yesterday+'_Asia_Seoul.csv', \"w\", encoding=\"UTF-8-sig\", newline=\"\\n\") as f:\n",
    "#         writer = csv.DictWriter(f, fieldnames={\"NOTE\"})\n",
    "#         writer.writeheader()\n",
    "#         for i in range()\n",
    "\n",
    "\n"
   ]
  },
  {
   "cell_type": "code",
   "execution_count": null,
   "metadata": {},
   "outputs": [],
   "source": [
    "# 파일 다운로드 후 기입까지만\n",
    "import pandas as pd\n",
    "data = pd.read_csv(\"C:\\Users\\양정민\\다운로드\\com.brandicorp.brandi3_in_app_events_'+yesterday+'_'+yesterday+'_Asia_Seoul.csv\")"
   ]
  }
 ],
 "metadata": {
  "kernelspec": {
   "display_name": "Python 3",
   "language": "python",
   "name": "python3"
  },
  "language_info": {
   "codemirror_mode": {
    "name": "ipython",
    "version": 3
   },
   "file_extension": ".py",
   "mimetype": "text/x-python",
   "name": "python",
   "nbconvert_exporter": "python",
   "pygments_lexer": "ipython3",
   "version": "3.8.5"
  }
 },
 "nbformat": 4,
 "nbformat_minor": 4
}
