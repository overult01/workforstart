{
 "cells": [
  {
   "cell_type": "code",
   "execution_count": 8,
   "metadata": {},
   "outputs": [],
   "source": [
    "# !pip install pyinstaller"
   ]
  },
  {
   "cell_type": "code",
   "execution_count": 9,
   "metadata": {},
   "outputs": [],
   "source": [
    "# !pip install beautifulsoup"
   ]
  },
  {
   "cell_type": "code",
   "execution_count": 10,
   "metadata": {},
   "outputs": [],
   "source": [
    "# !pip install gspread"
   ]
  },
  {
   "cell_type": "code",
   "execution_count": 11,
   "metadata": {},
   "outputs": [],
   "source": [
    "# !pip install --upgrade oauth2client"
   ]
  },
  {
   "cell_type": "code",
   "execution_count": 18,
   "metadata": {},
   "outputs": [
    {
     "name": "stdout",
     "output_type": "stream",
     "text": [
      "Collecting apscheduler\n",
      "  Downloading APScheduler-3.7.0-py2.py3-none-any.whl (59 kB)\n",
      "Requirement already satisfied: six>=1.4.0 in c:\\users\\pc\\anaconda3\\lib\\site-packages (from apscheduler) (1.15.0)\n",
      "Requirement already satisfied: setuptools>=0.7 in c:\\users\\pc\\anaconda3\\lib\\site-packages (from apscheduler) (50.3.1.post20201107)\n",
      "Collecting tzlocal~=2.0\n",
      "  Downloading tzlocal-2.1-py2.py3-none-any.whl (16 kB)\n",
      "Requirement already satisfied: pytz in c:\\users\\pc\\anaconda3\\lib\\site-packages (from apscheduler) (2020.1)\n",
      "Installing collected packages: tzlocal, apscheduler\n",
      "Successfully installed apscheduler-3.7.0 tzlocal-2.1\n"
     ]
    }
   ],
   "source": [
    "# !pip install apscheduler"
   ]
  },
  {
   "cell_type": "code",
   "execution_count": 20,
   "metadata": {},
   "outputs": [],
   "source": [
    "from apscheduler.schedulers.blocking import BlockingScheduler\n",
    "import time"
   ]
  },
  {
   "cell_type": "code",
   "execution_count": 14,
   "metadata": {},
   "outputs": [
    {
     "name": "stdout",
     "output_type": "stream",
     "text": [
      "2021-06-29\n",
      "Mozilla/5.0 (Macintosh; Intel Mac OS X 10_8_3) AppleWebKit/537.36 (KHTML, like Gecko) Chrome/54.0.2866.71 Safari/537.36\n"
     ]
    },
    {
     "name": "stderr",
     "output_type": "stream",
     "text": [
      "<ipython-input-14-1b50dd066f0c>:26: DeprecationWarning: use options instead of chrome_options\n",
      "  driver = webdriver.Chrome(chrome_options=options, executable_path=r'./chromedriver.exe')\n"
     ]
    },
    {
     "name": "stdout",
     "output_type": "stream",
     "text": [
      "4,277,599\n",
      "3\n",
      "0\n",
      "9,487,746\n",
      "10\n",
      "2\n"
     ]
    }
   ],
   "source": [
    "import datetime\n",
    "import time\n",
    "from oauth2client.service_account import ServiceAccountCredentials\n",
    "import gspread\n",
    "from selenium import webdriver\n",
    "from selenium.webdriver.chrome.options import Options\n",
    "from fake_useragent import UserAgent\n",
    "\n",
    "days_ago = datetime.datetime.now() - datetime.timedelta(days=1)\n",
    "yesterday= days_ago.strftime(\"%Y-%m-%d\")\n",
    "print(yesterday)\n",
    "\n",
    "time1 = datetime.datetime(2021, 6, 16, 9, 0, 0) #기준일 21/06/16\n",
    "time2 = datetime.datetime.now()\n",
    "date_gs = (time2-time1).days # 기준날짜와 오늘 날짜의 차\n",
    "date_gs\n",
    "\n",
    "campaign_list = [6223, 6224]    \n",
    "    \n",
    "\n",
    "options = Options()\n",
    "ua = UserAgent()\n",
    "userAgent = ua.random\n",
    "print(userAgent)\n",
    "options.add_argument(f'user-agent={userAgent}')\n",
    "driver = webdriver.Chrome(chrome_options=options, executable_path=r'./chromedriver.exe')\n",
    "    \n",
    "driver.get('http://admin.mobiconnect.co.kr/admin/login')\n",
    "driver.find_element_by_id('userId').send_keys('jmyang')\n",
    "driver.find_element_by_id('userPwd').send_keys('mobi1109')\n",
    "driver.find_element_by_xpath('//*[@id=\"frm\"]/li[4]/input').click()\n",
    "# driver.get(\"http://admin.mobiconnect.co.kr/admin/login\")\n",
    "# driver.quit()\n",
    "\n",
    "for i in campaign_list:\n",
    "    campaign = i\n",
    "    \n",
    "    time.sleep(0.7)\n",
    "    driver.get('http://admin.mobiconnect.co.kr/admin/adoffers/OfferDetail?offerId='+str(campaign)+'&startDate='+str(yesterday)+'&endDate='+str(yesterday))\n",
    "    time.sleep(0.7)\n",
    "    total_data = driver.find_element_by_xpath('//*[@id=\"DataTables_Table_0\"]/tfoot/tr/td[2]').text\n",
    "    install_data = driver.find_element_by_xpath('//*[@id=\"DataTables_Table_0\"]/tfoot/tr/td[4]').text\n",
    "    event_data = driver.find_element_by_xpath('//*[@id=\"DataTables_Table_0\"]/tfoot/tr/td[5]').text\n",
    "    install_data=install_data[:-3]\n",
    "    event_data = event_data[:-3]\n",
    "    print(total_data)\n",
    "    print(install_data)\n",
    "    print(event_data)\n",
    "    \n",
    "    # 구글 시트에 입력 (kb)\n",
    "    scope = ['https://spreadsheets.google.com/feeds']\n",
    "    json_file_name = './rpadaily-a0b4f0f12ff6.json'\n",
    "    credentials = ServiceAccountCredentials.from_json_keyfile_name(json_file_name, scope)\n",
    "    gc = gspread.authorize(credentials)\n",
    "    spreadsheet_url = 'https://docs.google.com/spreadsheets/d/1TaRqRwAbH9NnGR0zl9cynj7l7nmOzSodmqo6HoKJVQA/edit#gid=2124347354'\n",
    "    \n",
    "    if campaign == 6224:\n",
    "        doc = gc.open_by_url(spreadsheet_url)\n",
    "        sheet1 = doc.worksheet('KBM_able_iOS')\n",
    "    elif campaign== 6223:\n",
    "        doc = gc.open_by_url(spreadsheet_url)\n",
    "        sheet1 = doc.worksheet('KBM_able_AOS')\n",
    "    else: \n",
    "        print(\"kb캠페인이 아닙니다\")\n",
    "        \n",
    "    # 기준일(469+ 차이, but 매달 수정해줘야 함)\n",
    "    sheet1.update_acell('c'+str(469+date_gs), total_data)\n",
    "    sheet1.update_acell('d'+str(469+date_gs), install_data)\n",
    "    sheet1.update_acell('e'+str(469+date_gs), event_data)    \n",
    "    \n",
    "driver.quit()\n",
    "    "
   ]
  },
  {
   "cell_type": "code",
   "execution_count": 15,
   "metadata": {},
   "outputs": [],
   "source": [
    "# schedule.every().days.at(\"18:56\").do(auto_kb())"
   ]
  },
  {
   "cell_type": "code",
   "execution_count": 16,
   "metadata": {},
   "outputs": [],
   "source": [
    "# !pip install pygsheets"
   ]
  },
  {
   "cell_type": "code",
   "execution_count": 17,
   "metadata": {},
   "outputs": [],
   "source": [
    "# # 커넥트 플랫폼 자동로그인\n",
    "# campaign = input(\"영문 캠페인 명 입력: \")"
   ]
  },
  {
   "cell_type": "code",
   "execution_count": null,
   "metadata": {},
   "outputs": [],
   "source": []
  },
  {
   "cell_type": "code",
   "execution_count": null,
   "metadata": {},
   "outputs": [],
   "source": []
  },
  {
   "cell_type": "code",
   "execution_count": null,
   "metadata": {},
   "outputs": [],
   "source": []
  },
  {
   "cell_type": "code",
   "execution_count": null,
   "metadata": {},
   "outputs": [],
   "source": []
  },
  {
   "cell_type": "code",
   "execution_count": null,
   "metadata": {},
   "outputs": [],
   "source": []
  }
 ],
 "metadata": {
  "kernelspec": {
   "display_name": "Python 3",
   "language": "python",
   "name": "python3"
  },
  "language_info": {
   "codemirror_mode": {
    "name": "ipython",
    "version": 3
   },
   "file_extension": ".py",
   "mimetype": "text/x-python",
   "name": "python",
   "nbconvert_exporter": "python",
   "pygments_lexer": "ipython3",
   "version": "3.8.5"
  }
 },
 "nbformat": 4,
 "nbformat_minor": 4
}
