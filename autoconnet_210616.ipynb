{
 "cells": [
  {
   "cell_type": "code",
   "execution_count": 94,
   "metadata": {},
   "outputs": [],
   "source": [
    "# !pip install pyinstaller"
   ]
  },
  {
   "cell_type": "code",
   "execution_count": 95,
   "metadata": {},
   "outputs": [],
   "source": [
    "# !pip install beautifulsoup"
   ]
  },
  {
   "cell_type": "code",
   "execution_count": 96,
   "metadata": {},
   "outputs": [],
   "source": [
    "# !pip install gspread"
   ]
  },
  {
   "cell_type": "code",
   "execution_count": 97,
   "metadata": {},
   "outputs": [],
   "source": [
    "# !pip install --upgrade oauth2client"
   ]
  },
  {
   "cell_type": "code",
   "execution_count": 98,
   "metadata": {},
   "outputs": [
    {
     "name": "stdout",
     "output_type": "stream",
     "text": [
      "2021-06-15\n"
     ]
    }
   ],
   "source": [
    "import datetime\n",
    "import time\n",
    "from oauth2client.service_account import ServiceAccountCredentials\n",
    "import gspread\n",
    "\n",
    "days_ago = datetime.datetime.now() - datetime.timedelta(days=1)\n",
    "yesterday= days_ago.strftime(\"%Y-%m-%d\")\n",
    "print(yesterday)"
   ]
  },
  {
   "cell_type": "code",
   "execution_count": 99,
   "metadata": {},
   "outputs": [
    {
     "data": {
      "text/plain": [
       "0"
      ]
     },
     "execution_count": 99,
     "metadata": {},
     "output_type": "execute_result"
    }
   ],
   "source": [
    "time1 = datetime.datetime(2021, 6, 16, 9, 0, 0) #기준일 21/06/16\n",
    "time2 = datetime.datetime.now()\n",
    "date_gs = (time2-time1).days # 기준날짜와 오늘 날짜의 차\n",
    "date_gs"
   ]
  },
  {
   "cell_type": "code",
   "execution_count": 100,
   "metadata": {},
   "outputs": [],
   "source": [
    "# !pip install pygsheets"
   ]
  },
  {
   "cell_type": "code",
   "execution_count": 101,
   "metadata": {},
   "outputs": [],
   "source": [
    "# # 커넥트 플랫폼 자동로그인\n",
    "# campaign = input(\"영문 캠페인 명 입력: \")"
   ]
  },
  {
   "cell_type": "code",
   "execution_count": 102,
   "metadata": {},
   "outputs": [],
   "source": [
    "campaign_list = [6223, 6224]"
   ]
  },
  {
   "cell_type": "code",
   "execution_count": 103,
   "metadata": {},
   "outputs": [
    {
     "name": "stdout",
     "output_type": "stream",
     "text": [
      "Mozilla/5.0 (Windows NT 6.2; WOW64) AppleWebKit/537.36 (KHTML, like Gecko) Chrome/27.0.1500.55 Safari/537.36\n"
     ]
    },
    {
     "name": "stderr",
     "output_type": "stream",
     "text": [
      "<ipython-input-103-cff64bd2a4de>:10: DeprecationWarning: use options instead of chrome_options\n",
      "  driver = webdriver.Chrome(chrome_options=options, executable_path=r'C:\\Users\\pc\\dev\\RPA\\chromedriver.exe')\n"
     ]
    }
   ],
   "source": [
    "from selenium import webdriver\n",
    "from selenium.webdriver.chrome.options import Options\n",
    "from fake_useragent import UserAgent\n",
    "\n",
    "options = Options()\n",
    "ua = UserAgent()\n",
    "userAgent = ua.random\n",
    "print(userAgent)\n",
    "options.add_argument(f'user-agent={userAgent}')\n",
    "driver = webdriver.Chrome(chrome_options=options, executable_path=r'C:\\Users\\pc\\dev\\RPA\\chromedriver.exe')\n",
    "# driver.get(\"http://admin.mobiconnect.co.kr/admin/login\")\n",
    "# driver.quit()"
   ]
  },
  {
   "cell_type": "code",
   "execution_count": 104,
   "metadata": {},
   "outputs": [],
   "source": [
    "driver.get('http://admin.mobiconnect.co.kr/admin/login')\n",
    "driver.find_element_by_id('userId').send_keys('jmyang')\n",
    "driver.find_element_by_id('userPwd').send_keys('mobi1109')\n",
    "driver.find_element_by_xpath('//*[@id=\"frm\"]/li[4]/input').click()"
   ]
  },
  {
   "cell_type": "code",
   "execution_count": 105,
   "metadata": {},
   "outputs": [],
   "source": [
    "#캠페인 명 검색\n",
    "# driver.find_element_by_xpath('//*[@id=\"DataTables_Table_0_filter\"]/label/input').send_keys(campaign)"
   ]
  },
  {
   "cell_type": "code",
   "execution_count": 106,
   "metadata": {},
   "outputs": [],
   "source": [
    "# 캠페인 첫 번째\n",
    "# driver.implicitly_wait(0.7)\n",
    "# driver.get('#DataTables_Table_0 > tbody > tr.odd > td.al_left.name_tit > a.tx_blue').click()\n",
    "# time.sleep(0.5)"
   ]
  },
  {
   "cell_type": "code",
   "execution_count": 107,
   "metadata": {},
   "outputs": [
    {
     "name": "stdout",
     "output_type": "stream",
     "text": [
      "1,661,642\n",
      "6\n",
      "0\n",
      "1,490,849\n",
      "4\n",
      "1\n"
     ]
    }
   ],
   "source": [
    "for i in campaign_list:\n",
    "    campaign = i\n",
    "    \n",
    "    time.sleep(0.7)\n",
    "    driver.get('http://admin.mobiconnect.co.kr/admin/adoffers/OfferDetail?offerId='+str(campaign)+'&startDate='+str(yesterday)+'&endDate='+str(yesterday))\n",
    "    time.sleep(0.7)\n",
    "    total_data = driver.find_element_by_xpath('//*[@id=\"DataTables_Table_0\"]/tfoot/tr/td[2]').text\n",
    "    install_data = driver.find_element_by_xpath('//*[@id=\"DataTables_Table_0\"]/tfoot/tr/td[4]').text\n",
    "    event_data = driver.find_element_by_xpath('//*[@id=\"DataTables_Table_0\"]/tfoot/tr/td[5]').text\n",
    "    install_data=install_data[:-3]\n",
    "    event_data = event_data[:-3]\n",
    "    print(total_data)\n",
    "    print(install_data)\n",
    "    print(event_data)\n",
    "    \n",
    "    # 구글 시트에 입력 (kb)\n",
    "    scope = ['https://spreadsheets.google.com/feeds']\n",
    "    json_file_name = './rpadaily-a0b4f0f12ff6.json'\n",
    "    credentials = ServiceAccountCredentials.from_json_keyfile_name(json_file_name, scope)\n",
    "    gc = gspread.authorize(credentials)\n",
    "    spreadsheet_url = 'https://docs.google.com/spreadsheets/d/1TaRqRwAbH9NnGR0zl9cynj7l7nmOzSodmqo6HoKJVQA/edit#gid=2124347354'\n",
    "    \n",
    "    if campaign == 6224:\n",
    "        doc = gc.open_by_url(spreadsheet_url)\n",
    "        sheet1 = doc.worksheet('KBM_able_iOS')\n",
    "    elif campaign== 6223:\n",
    "        doc = gc.open_by_url(spreadsheet_url)\n",
    "        sheet1 = doc.worksheet('KBM_able_AOS')\n",
    "    else: \n",
    "        print(\"kb캠페인이 아닙니다\")\n",
    "        \n",
    "    # 기준일(469+ 차이, but 매달 수정해줘야 함)\n",
    "    sheet1.update_acell('c'+str(469+date_gs), total_data)\n",
    "    sheet1.update_acell('d'+str(469+date_gs), install_data)\n",
    "    sheet1.update_acell('e'+str(469+date_gs), event_data)    \n",
    "    \n",
    "driver.quit()"
   ]
  }
 ],
 "metadata": {
  "kernelspec": {
   "display_name": "Python 3",
   "language": "python",
   "name": "python3"
  },
  "language_info": {
   "codemirror_mode": {
    "name": "ipython",
    "version": 3
   },
   "file_extension": ".py",
   "mimetype": "text/x-python",
   "name": "python",
   "nbconvert_exporter": "python",
   "pygments_lexer": "ipython3",
   "version": "3.8.5"
  }
 },
 "nbformat": 4,
 "nbformat_minor": 4
}
