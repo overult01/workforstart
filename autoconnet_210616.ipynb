{
 "cells": [
  {
   "cell_type": "code",
   "execution_count": 24,
   "metadata": {},
   "outputs": [
    {
     "name": "stdout",
     "output_type": "stream",
     "text": [
      "2021-06-20\n"
     ]
    }
   ],
   "source": [
    "import datetime\n",
    "import time\n",
    "from oauth2client.service_account import ServiceAccountCredentials\n",
    "import gspread\n",
    "\n",
    "days_ago = datetime.datetime.now() - datetime.timedelta(days=1)\n",
    "yesterday= days_ago.strftime(\"%Y-%m-%d\")\n",
    "print(yesterday)\n"
   ]
  },
  {
   "cell_type": "code",
   "execution_count": 25,
   "metadata": {},
   "outputs": [
    {
     "data": {
      "text/plain": [
       "'2021-06-19'"
      ]
     },
     "execution_count": 25,
     "metadata": {},
     "output_type": "execute_result"
    }
   ],
   "source": [
    "days_ago = datetime.datetime.now() - datetime.timedelta(days=2)\n",
    "yesterday2 = days_ago.strftime(\"%Y-%m-%d\")\n",
    "yesterday2"
   ]
  },
  {
   "cell_type": "code",
   "execution_count": 26,
   "metadata": {},
   "outputs": [
    {
     "data": {
      "text/plain": [
       "'2021-06-18'"
      ]
     },
     "execution_count": 26,
     "metadata": {},
     "output_type": "execute_result"
    }
   ],
   "source": [
    "days_ago = datetime.datetime.now() - datetime.timedelta(days=3)\n",
    "yesterday3 = days_ago.strftime(\"%Y-%m-%d\")\n",
    "yesterday3"
   ]
  },
  {
   "cell_type": "code",
   "execution_count": 27,
   "metadata": {},
   "outputs": [
    {
     "data": {
      "text/plain": [
       "5"
      ]
     },
     "execution_count": 27,
     "metadata": {},
     "output_type": "execute_result"
    }
   ],
   "source": [
    "time1 = datetime.datetime(2021, 6, 16, 9, 0, 0) #기준일 21/06/16\n",
    "time2 = datetime.datetime.now()\n",
    "date_gs = (time2-time1).days # 기준날짜와 오늘 날짜의 차\n",
    "date_gs"
   ]
  },
  {
   "cell_type": "code",
   "execution_count": 28,
   "metadata": {},
   "outputs": [
    {
     "data": {
      "text/plain": [
       "'월'"
      ]
     },
     "execution_count": 28,
     "metadata": {},
     "output_type": "execute_result"
    }
   ],
   "source": [
    "weekday_name = ['월', '화', '수', '목', '금', '토', '일']\n",
    "r = datetime.datetime.today().weekday()\n",
    "weekday_name[r]"
   ]
  },
  {
   "cell_type": "code",
   "execution_count": 29,
   "metadata": {},
   "outputs": [],
   "source": [
    "campaign_list = [6223, 6224]\n"
   ]
  },
  {
   "cell_type": "code",
   "execution_count": 30,
   "metadata": {},
   "outputs": [
    {
     "name": "stdout",
     "output_type": "stream",
     "text": [
      "Opera/9.80 (X11; Linux i686; U; ru) Presto/2.8.131 Version/11.11\n"
     ]
    },
    {
     "name": "stderr",
     "output_type": "stream",
     "text": [
      "C:\\anaconda3\\lib\\site-packages\\ipykernel_launcher.py:11: DeprecationWarning: use options instead of chrome_options\n",
      "  # This is added back by InteractiveShellApp.init_path()\n"
     ]
    }
   ],
   "source": [
    "\n",
    "from selenium import webdriver\n",
    "from selenium.webdriver.chrome.options import Options\n",
    "from fake_useragent import UserAgent\n",
    "\n",
    "options = Options()\n",
    "ua = UserAgent()\n",
    "userAgent = ua.random\n",
    "print(userAgent)\n",
    "options.add_argument(f'user-agent={userAgent}')\n",
    "driver = webdriver.Chrome(chrome_options=options, executable_path=r'G:\\내 드라이브\\업무\\dev\\RPA\\chromedriver.exe')\n",
    "# driver.get(\"http://admin.mobiconnect.co.kr/admin/login\")\n",
    "# driver.quit()"
   ]
  },
  {
   "cell_type": "code",
   "execution_count": 31,
   "metadata": {},
   "outputs": [],
   "source": [
    "driver.get('http://admin.mobiconnect.co.kr/admin/login')\n",
    "driver.find_element_by_id('userId').send_keys('jmyang')\n",
    "driver.find_element_by_id('userPwd').send_keys('mobi1109')\n",
    "driver.find_element_by_xpath('//*[@id=\"frm\"]/li[4]/input').click()"
   ]
  },
  {
   "cell_type": "code",
   "execution_count": 32,
   "metadata": {},
   "outputs": [
    {
     "name": "stdout",
     "output_type": "stream",
     "text": [
      "2,071,317\n",
      "3\n",
      "1\n",
      "2,692,903\n",
      "1\n",
      "0\n"
     ]
    }
   ],
   "source": [
    "for i in campaign_list:\n",
    "    campaign = i\n",
    "    \n",
    "    time.sleep(0.7)\n",
    "    driver.get('http://admin.mobiconnect.co.kr/admin/adoffers/OfferDetail?offerId='+str(campaign)+'&startDate='+str(yesterday)+'&endDate='+str(yesterday))\n",
    "    time.sleep(0.7)\n",
    "    total_data = driver.find_element_by_xpath('//*[@id=\"DataTables_Table_0\"]/tfoot/tr/td[2]').text\n",
    "    install_data = driver.find_element_by_xpath('//*[@id=\"DataTables_Table_0\"]/tfoot/tr/td[4]').text\n",
    "    event_data = driver.find_element_by_xpath('//*[@id=\"DataTables_Table_0\"]/tfoot/tr/td[5]').text\n",
    "    install_data=install_data[:-3]\n",
    "    event_data = event_data[:-3]\n",
    "    print(total_data)\n",
    "    print(install_data)\n",
    "    print(event_data)\n",
    "    \n",
    "    # 구글 시트에 입력 (kb)\n",
    "    scope = ['https://spreadsheets.google.com/feeds']\n",
    "    json_file_name = './rpadaily-a0b4f0f12ff6.json'\n",
    "    credentials = ServiceAccountCredentials.from_json_keyfile_name(json_file_name, scope)\n",
    "    gc = gspread.authorize(credentials)\n",
    "    spreadsheet_url = 'https://docs.google.com/spreadsheets/d/1TaRqRwAbH9NnGR0zl9cynj7l7nmOzSodmqo6HoKJVQA/edit#gid=2124347354'\n",
    "    \n",
    "    if campaign == 6224:\n",
    "        doc = gc.open_by_url(spreadsheet_url)\n",
    "        sheet1 = doc.worksheet('KBM_able_iOS')\n",
    "    elif campaign== 6223:\n",
    "        doc = gc.open_by_url(spreadsheet_url)\n",
    "        sheet1 = doc.worksheet('KBM_able_AOS')\n",
    "    else: \n",
    "        print(\"kb캠페인이 아닙니다\")\n",
    "        \n",
    "    # 기준일(469+ 차이, but 매달 수정해줘야 함)\n",
    "    sheet1.update_acell('c'+str(469+date_gs), total_data)\n",
    "    sheet1.update_acell('d'+str(469+date_gs), install_data)\n",
    "    sheet1.update_acell('e'+str(469+date_gs), event_data)    \n",
    "    \n"
   ]
  },
  {
   "cell_type": "code",
   "execution_count": 33,
   "metadata": {},
   "outputs": [
    {
     "name": "stdout",
     "output_type": "stream",
     "text": [
      "1,493,630\n",
      "1\n",
      "1\n",
      "1,817,799\n",
      "2\n",
      "0\n",
      "3,002,716\n",
      "2\n",
      "1\n",
      "3,714,297\n",
      "3\n",
      "1\n"
     ]
    }
   ],
   "source": [
    "if weekday_name[r] =='월':\n",
    "    for i in campaign_list:\n",
    "        campaign = i\n",
    "        \n",
    "        time.sleep(0.7)\n",
    "        \n",
    "        for j in [yesterday2, yesterday3]:\n",
    "            driver.get('http://admin.mobiconnect.co.kr/admin/adoffers/OfferDetail?offerId='+str(campaign)+'&startDate='+str(j)+'&endDate='+str(j))\n",
    "            time.sleep(0.7)\n",
    "            total_data = driver.find_element_by_xpath('//*[@id=\"DataTables_Table_0\"]/tfoot/tr/td[2]').text\n",
    "            install_data = driver.find_element_by_xpath('//*[@id=\"DataTables_Table_0\"]/tfoot/tr/td[4]').text\n",
    "            event_data = driver.find_element_by_xpath('//*[@id=\"DataTables_Table_0\"]/tfoot/tr/td[5]').text\n",
    "            install_data=install_data[:-3]\n",
    "            event_data = event_data[:-3]\n",
    "            print(total_data)\n",
    "            print(install_data)\n",
    "            print(event_data)\n",
    "    \n",
    "        # 구글 시트에 입력 (kb)\n",
    "            scope = ['https://spreadsheets.google.com/feeds']\n",
    "            json_file_name = './rpadaily-a0b4f0f12ff6.json'\n",
    "            credentials = ServiceAccountCredentials.from_json_keyfile_name(json_file_name, scope)\n",
    "            gc = gspread.authorize(credentials)\n",
    "            spreadsheet_url = 'https://docs.google.com/spreadsheets/d/1TaRqRwAbH9NnGR0zl9cynj7l7nmOzSodmqo6HoKJVQA/edit#gid=2124347354'\n",
    "    \n",
    "            if campaign == 6224:\n",
    "                doc = gc.open_by_url(spreadsheet_url)\n",
    "                sheet1 = doc.worksheet('KBM_able_iOS')\n",
    "            elif campaign== 6223:\n",
    "                doc = gc.open_by_url(spreadsheet_url)\n",
    "                sheet1 = doc.worksheet('KBM_able_AOS')\n",
    "            else: \n",
    "                print(\"kb캠페인이 아닙니다\")\n",
    "        \n",
    "    # 기준일(469+ 차이, but 매달 수정해줘야 함)\n",
    "            if j == yesterday2: #토욜\n",
    "                sheet1.update_acell('c'+str(469+date_gs-1), total_data)\n",
    "                sheet1.update_acell('d'+str(469+date_gs-1), install_data)\n",
    "                sheet1.update_acell('e'+str(469+date_gs-1), event_data) \n",
    "            elif j == yesterday3: #금욜\n",
    "                sheet1.update_acell('c'+str(469+date_gs-2), total_data)\n",
    "                sheet1.update_acell('d'+str(469+date_gs-2), install_data)\n",
    "                sheet1.update_acell('e'+str(469+date_gs-2), event_data) \n",
    "                    \n",
    "    driver.quit()    \n",
    "\n",
    "else:\n",
    "    driver.quit()"
   ]
  },
  {
   "cell_type": "code",
   "execution_count": null,
   "metadata": {},
   "outputs": [],
   "source": []
  }
 ],
 "metadata": {
  "kernelspec": {
   "display_name": "Python 3",
   "language": "python",
   "name": "python3"
  },
  "language_info": {
   "codemirror_mode": {
    "name": "ipython",
    "version": 3
   },
   "file_extension": ".py",
   "mimetype": "text/x-python",
   "name": "python",
   "nbconvert_exporter": "python",
   "pygments_lexer": "ipython3",
   "version": "3.7.3"
  }
 },
 "nbformat": 4,
 "nbformat_minor": 2
}
